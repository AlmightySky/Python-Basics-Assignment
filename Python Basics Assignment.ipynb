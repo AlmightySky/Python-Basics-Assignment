{
 "cells": [
  {
   "cell_type": "code",
   "execution_count": null,
   "id": "64120726-ec7b-49e3-8bb2-e8f275011c45",
   "metadata": {},
   "outputs": [],
   "source": [
    "#Explain the key features of Python that make it a popular choice for programming.\n",
    "'''\n",
    "-> Python is a popular programming language for its simplicity, cross-platform compatibility, and versatility.\n",
    "Its clean and easy-to-read syntax makes it beginner-friendly and efficient for seasoned developers.\n",
    "It supports multiple programming paradigms like object-oriented, procedural, and functional programming.\n",
    "Python boasts a rich standard library, extensive community support, and is widely used in fields such as web development, data science, and machine learning. With dynamic typing and scalability, it also integrates well with other languages like C and Java, making it a go-to choice for various applications.\n",
    "'''"
   ]
  },
  {
   "cell_type": "code",
   "execution_count": null,
   "id": "2e3044df-ceda-4498-b53b-0aedb7ca6271",
   "metadata": {},
   "outputs": [],
   "source": [
    "#Describe the role of predefined keywords in Python and provide examples of how they are used in a program.\n",
    "'''\n",
    "->Predefined keywords in Python are reserved words that have specific meanings and functions within the language.\n",
    "They cannot be used as identifiers (like variable names or function names) because they form the building blocks for Python’s syntax and structure.\n",
    "Examples of Common Python Keywords:\n",
    "if, else, elif: Used for conditional statements.\n",
    "\n",
    "for, while: Looping keywords for iteration.\n",
    "\n",
    "def: Used to define a function.\n",
    "\n",
    "class: Used to define a class.\n",
    "\n",
    "try, except: Keywords for exception handling.\n",
    "\n",
    "Example of Keywords in a Program:\n",
    "python\n",
    "\n",
    "# Example of using keywords for conditional logic and loops\n",
    "def check_even_numbers(numbers):\n",
    "    even_numbers = []  # 'def' is a keyword for defining a function\n",
    "    for number in numbers:  # 'for' is used for iteration\n",
    "        if number % 2 == 0:  # 'if' checks a condition\n",
    "            even_numbers.append(number)  # Appending to the list\n",
    "        else:  # 'else' handles the alternative condition\n",
    "            print(f\"{number} is odd\")\n",
    "    return even_numbers  # 'return' is used to return values\n",
    "\n",
    "# Using the function\n",
    "sample_numbers = [1, 2, 3, 4, 5, 6]\n",
    "print(check_even_numbers(sample_numbers))\n"
   ]
  },
  {
   "cell_type": "code",
   "execution_count": null,
   "id": "69eff9c7-4ef7-45e2-8494-dbd1ca79cb57",
   "metadata": {},
   "outputs": [],
   "source": [
    "# Compare and contrast mutable and immutable objects in Python with examples.\n",
    "'''\n",
    "-> Mutable Objects: Can be changed (e.g., lists, dictionaries). Changes happen in-place.\n",
    "\n",
    "Immutable Objects: Cannot be changed (e.g., strings, tuples). Modifications create a new object.\n",
    "\n",
    "Example: Lists are mutable, so their elements can be updated; strings are immutable, so changes result in a new string.\n",
    "'''"
   ]
  },
  {
   "cell_type": "code",
   "execution_count": null,
   "id": "760a98a1-f4c4-4a00-8eca-dd0353070fb1",
   "metadata": {},
   "outputs": [],
   "source": [
    "# Discuss the different types of operators in Python and provide examples of how they are used.\n",
    "'''\n",
    "-> Python offers various operators to perform operations on variables and values.\n",
    "They are classified into different types based on their functionality:\n",
    "\n",
    "Types of Operators in Python:\n",
    "1. Arithmetic: Perform math operations (`+`, `-`, `*`, `/`). Example: `x + y`.\n",
    "2. Comparison: Compare values (`==`, `!=`, `>`, `<`). Example: `x > y`.\n",
    "3. Logical: Combine conditions (`and`, `or`, `not`). Example: `x > 5 and y < 10`.\n",
    "4. Assignment: Assign values (`=`, `+=`, `-=`). Example: `x += 5`.\n",
    "5. Bitwise: Work at the binary level (`&`, `|`, `^`). Example: `x & y`.\n",
    "6. Membership: Check sequences (`in`, `not in`). Example: `2 in my_list`.\n",
    "7. Identity: Check object identity (`is`, `is not`). Example: `x is y`.\n",
    "'''"
   ]
  },
  {
   "cell_type": "code",
   "execution_count": null,
   "id": "28d9905b-824b-484f-91b6-69d9ef21622d",
   "metadata": {},
   "outputs": [],
   "source": [
    "#Explain the concept of type casting in Python with examples.\n",
    "'''\n",
    "-> Type casting in Python is the process of converting one data type into another.\n",
    "It can be done either implicitly (automatically by Python) or explicitly (manually by the programmer).\n",
    "\n",
    "1. Implicitly example:\n",
    "x = 10   # Integer\n",
    "y = 3.5  # Float\n",
    "result = x + y  # Python converts 'x' to float implicitly\n",
    "print(result)   # Output: 13.5\n",
    "print(type(result))  # Output: <class 'float'>\n",
    "\n",
    "2. Explicitly example:\n",
    "x = 100  # Integer\n",
    "y = str(x)  # Explicitly cast to string\n",
    "print(y)  # Output: '100'\n",
    "print(type(y))  # Output: <class 'str'>\n",
    "'''"
   ]
  },
  {
   "cell_type": "code",
   "execution_count": null,
   "id": "e55620f2-18ba-4624-bd50-cb2154950237",
   "metadata": {},
   "outputs": [],
   "source": [
    "# How do conditional statements work in Python? Illustrate with examples.\n",
    "'''\n",
    "-> Conditional statements in Python allow you to execute different blocks of code based on certain conditions.\n",
    "They are implemented using keywords like if, elif, and else.\n",
    "\n",
    "Conditional statements in Python execute code blocks based on conditions:\n",
    "\n",
    "if: Executes if the condition is True.\n",
    "elif: Checks another condition if the previous one is False.\n",
    "else: Executes if all conditions are False.\n",
    "\n",
    "Example:\n",
    "number = 10\n",
    "if number > 0:\n",
    "    print(\"Positive\")\n",
    "elif number == 0:\n",
    "    print(\"Zero\")\n",
    "else:\n",
    "    print(\"Negative\")\n"
   ]
  },
  {
   "cell_type": "code",
   "execution_count": null,
   "id": "105fd226-d049-4d4f-a3f8-de5f49c44bd1",
   "metadata": {},
   "outputs": [],
   "source": [
    "# Describe the different types of loops in Python and their use cases with examples.\n",
    "'''\n",
    "-> Python provides two main types of loops: for loop and while loop, each serving different use cases.\n",
    "\n",
    "1. for Loop\n",
    "Use Case: Iterates over a sequence (like a list, tuple, string, or range) and executes code for each item.\n",
    "Example:\n",
    "# Iterating over a list\n",
    "numbers = [1, 2, 3]\n",
    "for num in numbers:\n",
    "    print(num)  # Output: 1 2 3\n",
    "\n",
    "2. while Loop\n",
    "Use Case: Repeats code as long as a condition is True. Ideal when the number of iterations isn't fixed.\n",
    "Example:\n",
    "# Loop until condition is False\n",
    "count = 1\n",
    "while count <= 3:\n",
    "    print(count)  # Output: 1 2 3\n",
    "    count += 1\n",
    "'''"
   ]
  },
  {
   "cell_type": "code",
   "execution_count": null,
   "id": "5874a1f4-3f60-48bd-9897-a1a35741ed73",
   "metadata": {},
   "outputs": [],
   "source": []
  },
  {
   "cell_type": "code",
   "execution_count": null,
   "id": "5ea9cce9-b589-423d-a046-e152f33dd250",
   "metadata": {},
   "outputs": [],
   "source": []
  }
 ],
 "metadata": {
  "kernelspec": {
   "display_name": "Python [conda env:base] *",
   "language": "python",
   "name": "conda-base-py"
  },
  "language_info": {
   "codemirror_mode": {
    "name": "ipython",
    "version": 3
   },
   "file_extension": ".py",
   "mimetype": "text/x-python",
   "name": "python",
   "nbconvert_exporter": "python",
   "pygments_lexer": "ipython3",
   "version": "3.12.7"
  }
 },
 "nbformat": 4,
 "nbformat_minor": 5
}
